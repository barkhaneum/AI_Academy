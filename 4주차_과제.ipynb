{
  "nbformat": 4,
  "nbformat_minor": 0,
  "metadata": {
    "colab": {
      "name": "4주차_과제.ipynb",
      "provenance": [],
      "collapsed_sections": [],
      "include_colab_link": true
    },
    "kernelspec": {
      "name": "python3",
      "display_name": "Python 3"
    }
  },
  "cells": [
    {
      "cell_type": "markdown",
      "metadata": {
        "id": "view-in-github",
        "colab_type": "text"
      },
      "source": [
        "<a href=\"https://colab.research.google.com/github/barkhaneum/AI_Academy/blob/master/4%EC%A3%BC%EC%B0%A8_%EA%B3%BC%EC%A0%9C.ipynb\" target=\"_parent\"><img src=\"https://colab.research.google.com/assets/colab-badge.svg\" alt=\"Open In Colab\"/></a>"
      ]
    },
    {
      "cell_type": "markdown",
      "metadata": {
        "id": "wxkL6PjwsI6L",
        "colab_type": "text"
      },
      "source": [
        "# 4주차 과제\n",
        "- 용어 정리\n",
        "- 딥러닝 강의 클론 코딩\n",
        "- 딥러닝 순전파 & 역전파 계산"
      ]
    },
    {
      "cell_type": "markdown",
      "metadata": {
        "id": "ixEtDe6_uGgI",
        "colab_type": "text"
      },
      "source": [
        "## 1. 용어 정리\n",
        "\n",
        "다음 제시된 단어의 정의(설명)를 정리하여 작성 하세요.\n",
        "\n",
        "* 2문장 이상 작성 해 주세요. \n",
        "* 주제(단어)와 크게 벗어나지만 않는다면 정답처리 됩니다.\n",
        "* 강의 뿐 아니라 기타 레퍼런스를 참고하여 작성하셔도 됩니다. (기타 레퍼런스를 참고하신 경우, 해당 레퍼런스를 정리하여 하단에 작성해 주세요.)\n"
      ]
    },
    {
      "cell_type": "markdown",
      "metadata": {
        "id": "0lfwat8eurKZ",
        "colab_type": "text"
      },
      "source": [
        "__(예시)__\n",
        "### 심층 신경망\n",
        ": 입력층과 출력층 사이에 여러 개의 은닉층들로 이뤄진 인공신경망이다. 심층 신경망은 일반적으로 인공신경망과 마찬가지로 복잡한 비선형 관계들을 모델링 할 수 있다. 신층신경망의 목적은 분류 및 수치예측을 하기 위함이고 이미지 트레이닝이나 문자인식과 같은 분야에서 매우 유용하게 쓰이고 있다."
      ]
    },
    {
      "cell_type": "markdown",
      "metadata": {
        "id": "Y8YJNKG_v65A",
        "colab_type": "text"
      },
      "source": [
        "### MCP 뉴런\n",
        " - 1943 년 신경 생리학자인 Walter S. McCulloch와 논리학자인 Walter Pitts가 처음 제안한 McCulloch-Pitts (MCP) 뉴런은 생물학적 뉴런의 간단한 수학적 모델이다.\n",
        " - 소마(soma), 수상돌기(Dendrites), 축색돌기(Axon) 를 갖는다\n",
        "  - 참조URL https://jontysinai.github.io/jekyll/update/2017/09/24/the-mcp-neuron.html\n",
        "\n",
        "### 퍼셉트론\n",
        " - 퍼셉트론은 다수의 신호(Input)을 입력받아서 하나의 신호(Output)을 출력한다\n",
        " - 퍼셉트론의 출력 값은 1 또는 0(or -1)이기 때문에 선형 분류(linear classifier) 모형이라고도 볼 수 있다.\n",
        "\n",
        "  - 출처: https://sacko.tistory.com/10 \n",
        "\n",
        "### 역전파\n",
        "- 뉴런의 가중치를 효율적으로 조정하기 위하여, 거꾸로 무엇인가를 전파하는 방식\n",
        "- 먼저 계산 결과와 정답의 오차를 구해 이 오차에 관여하는 값들의 가증치를 수정하여 오차가 작아지는 방향으로 일정 횟수를 반복해 수정하는 방법\n",
        " - 참조 URL http://wiki.hash.kr/index.php/%EC%97%AD%EC%A0%84%ED%8C%8C\n",
        "\n",
        "### 강화학습\n",
        "- 지도학습처럼 정답이 정해저있지 않고 비지도학습처럼 데이터 기반으로도 학습하지 않음\n",
        "- 에이전트,환경이 존재하고 에이전트의 행동과 환경이 상태에 따른 보상으로 상호작용함\n",
        "- 보상을 최대화하는 의사결정전략, 순차적인 행동들을 알아나가는 방법\n",
        "- \n",
        "\n",
        "\n",
        "### 과적합\n",
        "- 머신러닝에서 학습 데이터를 과하게 학습한것을 의미\n",
        "- 과하게 학습을한 나머지 샘플데이터에는 알맞게 학습이 되었지만 실제 데이터에는 오차가 발생하는것을 의미함\n",
        " - 참조 URL https://ko.wikipedia.org/wiki/%EA%B3%BC%EC%A0%81%ED%95%A9\n",
        "\n",
        "\n",
        "\n",
        "### 차원의 저주\n",
        "- 차원의 저주는 일상같은 3차원물리적공간보다 고차원공간에서 데이터를 분석하고 구성할때 발생하는 현상\n",
        "- 차원이 증가할때 공간의 양이 너무 빨리증가하여 사용 가능한 데이터가 희박한 증상\n",
        "- 학습할데이터양이 너무 적거나 공간의양이 클때 학습이 어려워짐\n",
        "- 참조 URL\n",
        " - http://thesciencelife.com/archives/1001\n",
        " - https://en.wikipedia.org/wiki/Curse_of_dimensionality\n"
      ]
    },
    {
      "cell_type": "markdown",
      "metadata": {
        "id": "d-zfFXLCy6jD",
        "colab_type": "text"
      },
      "source": [
        "## 2. 딥러닝 강의 클론 코딩\n",
        "\n",
        "####__퍼셉트론 구조 구현하기__ \n",
        "딥러닝 강의(__딥러닝 원리[1] 3:15 ~ 5:15 부분__)를 보고 코드를 따라 치며 출력 결과를 만드세요.\n",
        " \n",
        "\n",
        "* 하나의 코드셀에 해당 코드를 한번에 다 적어서 실행해주세요 (__그렇게 하지 않을 경우, 아래 이미지와 같은 출력값이 나오지 않을 수 있습니다__)\n",
        "\n",
        "*__주의!__ 실제로 코딩해서 출력해보면 강의에 나온 출력 결과와 다르게 나옵니다!!\n"
      ]
    },
    {
      "cell_type": "markdown",
      "metadata": {
        "id": "wcc5mzI9oZ7r",
        "colab_type": "text"
      },
      "source": [
        "![대체 텍스트](https://www.notion.so/image/https%3A%2F%2Fs3-us-west-2.amazonaws.com%2Fsecure.notion-static.com%2F0cceeed0-0235-4b0f-af88-0b8c377d5b4b%2F_2020-06-09__9.35.23.png?table=block&id=88fd8912-9356-49a4-9fda-a1a63fe96ea9&width=2870&cache=v2)"
      ]
    },
    {
      "cell_type": "code",
      "metadata": {
        "id": "YLbuiBXXEMCp",
        "colab_type": "code",
        "outputId": "44403295-4904-4385-975a-acff8c7ea4eb",
        "colab": {
          "base_uri": "https://localhost:8080/",
          "height": 215
        }
      },
      "source": [
        "import tensorflow as tf\n",
        "tf.compat.v1.set_random_seed(2020)\n",
        "x = 1\n",
        "y = 0\n",
        "w = tf.random.normal([1],0.1)\n",
        "\n",
        "import math\n",
        "def sigmoid(x):\n",
        "  return 1/(1 + math.exp(-x))\n",
        "output = sigmoid(x * w)\n",
        "print(output)\n",
        "\n",
        "for i in range(1000):\n",
        "  output = sigmoid(x*w)\n",
        "  error = y - output #에러값이 최소값이 되어야한다. (기대출력 - 실제출력)\n",
        "  w = w + x * 0.1 * error #경사하강법  가중치 갱신을 위해서 학습률이 등장 여기선 0.1을 의미\n",
        "\n",
        "  if i % 100 == 99:\n",
        "    print(\"학습횟수 : \" ,i, \"Error\",error, \"예측결과 : \", output)"
      ],
      "execution_count": 0,
      "outputs": [
        {
          "output_type": "stream",
          "text": [
            "0.4997504446862735\n",
            "학습횟수 :  99 Error -0.10197461694385973 예측결과 :  0.10197461694385973\n",
            "학습횟수 :  199 Error -0.05230575853093719 예측결과 :  0.05230575853093719\n",
            "학습횟수 :  299 Error -0.03482656647583864 예측결과 :  0.03482656647583864\n",
            "학습횟수 :  399 Error -0.026022842061119163 예측결과 :  0.026022842061119163\n",
            "학습횟수 :  499 Error -0.020743888504218044 예측결과 :  0.020743888504218044\n",
            "학습횟수 :  599 Error -0.017233285858519236 예측결과 :  0.017233285858519236\n",
            "학습횟수 :  699 Error -0.014732793938212741 예측결과 :  0.014732793938212741\n",
            "학습횟수 :  799 Error -0.012862591291669279 예측결과 :  0.012862591291669279\n",
            "학습횟수 :  899 Error -0.011411682660677939 예측결과 :  0.011411682660677939\n",
            "학습횟수 :  999 Error -0.010253604413421538 예측결과 :  0.010253604413421538\n"
          ],
          "name": "stdout"
        }
      ]
    },
    {
      "cell_type": "markdown",
      "metadata": {
        "id": "kr0HVRk8fOom",
        "colab_type": "text"
      },
      "source": [
        "## 3. 딥러닝 순전파 & 역전파 계산\n",
        "\n",
        "딥러닝 강의(__딥러닝 원리[2] 0:55 ~ 4:32 부분__)에 나오는 순전파 & 역전파 계산에 대한 문제 입니다.\n",
        "\n",
        "해당 영상과 다음 이미지를 참고하여 다음 2가지 물음에 답하세요.\n",
        "\n",
        "\n",
        "(1) 학습률이 0.2 일 경우 출력층의 노드값\n",
        "\n",
        "(2) 학습률이 0.1과 0.2 중 기대출력값이 지도데이터 \"3\"과 더 가까운 학습률은?"
      ]
    },
    {
      "cell_type": "markdown",
      "metadata": {
        "id": "CpwPFWhOUzww",
        "colab_type": "text"
      },
      "source": [
        "![대체 텍스트](https://www.notion.so/image/https%3A%2F%2Fs3-us-west-2.amazonaws.com%2Fsecure.notion-static.com%2Ff54dfd45-92ec-44ae-9616-6949d2484a45%2F_2020-06-10__5.22.03.png?table=block&id=ee05da89-3ceb-4ad9-a2d3-c9f68d24d1d9&width=3580&cache=v2)"
      ]
    },
    {
      "cell_type": "markdown",
      "metadata": {
        "id": "B2OVY7w5U3CI",
        "colab_type": "text"
      },
      "source": [
        "## (1) 학습률이 0.2 일 경우 출력층의 노드값 : 1.6\n",
        "## (2) 학습률이 0.1과 0.2 중 기대출력값이 지도데이터 \"3\"과 더 가까운 학습률은?: 0.1\n",
        " "
      ]
    },
    {
      "cell_type": "code",
      "metadata": {
        "id": "BgavfvqiWxBU",
        "colab_type": "code",
        "colab": {}
      },
      "source": [
        ""
      ],
      "execution_count": 0,
      "outputs": []
    }
  ]
}